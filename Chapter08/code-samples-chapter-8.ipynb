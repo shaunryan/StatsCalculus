{
 "cells": [
  {
   "cell_type": "markdown",
   "metadata": {},
   "source": [
    "# Chapter 8 - Foundational Probability Concepts and Their Applications"
   ]
  },
  {
   "cell_type": "markdown",
   "metadata": {},
   "source": [
    "## 8.1 Randomness, Probability and Random Variables"
   ]
  },
  {
   "cell_type": "markdown",
   "metadata": {},
   "source": [
    "### 8.1.4 Introduction to simulations with Numpy "
   ]
  },
  {
   "cell_type": "code",
   "execution_count": 1,
   "metadata": {},
   "outputs": [],
   "source": [
    "import pandas as pd\n",
    "import numpy as np\n",
    "import matplotlib.pyplot as plt\n",
    "import seaborn as sns\n",
    "\n",
    "# line to allow the plots to be showed in the Jupyter notebook\n",
    "%matplotlib inline"
   ]
  },
  {
   "cell_type": "code",
   "execution_count": 2,
   "metadata": {},
   "outputs": [],
   "source": [
    "def toss_die():\n",
    "    outcome = np.random.randint(1, 7)\n",
    "    return outcome"
   ]
  },
  {
   "cell_type": "code",
   "execution_count": 3,
   "metadata": {},
   "outputs": [
    {
     "name": "stdout",
     "output_type": "stream",
     "text": [
      "3, 3, 1, 5, 2, 2, 1, 5, 6, 4, "
     ]
    }
   ],
   "source": [
    "for x in range(10):\n",
    "    print(toss_die(), end=', ')"
   ]
  },
  {
   "cell_type": "code",
   "execution_count": 4,
   "metadata": {},
   "outputs": [
    {
     "name": "stdout",
     "output_type": "stream",
     "text": [
      "6, 3, 5, 3, 2, 4, 3, 4, 2, 2, "
     ]
    }
   ],
   "source": [
    "np.random.seed(123)\n",
    "for x in range(10):\n",
    "    print(toss_die(), end=', ')"
   ]
  },
  {
   "cell_type": "code",
   "execution_count": 5,
   "metadata": {},
   "outputs": [],
   "source": [
    "students = ['student_' + str(i) for i in range(1,31)]"
   ]
  },
  {
   "cell_type": "code",
   "execution_count": 6,
   "metadata": {},
   "outputs": [
    {
     "data": {
      "text/plain": [
       "array(['student_9', 'student_27', 'student_23', 'student_14'],\n",
       "      dtype='<U10')"
      ]
     },
     "execution_count": 6,
     "metadata": {},
     "output_type": "execute_result"
    }
   ],
   "source": [
    "sample_students = np.random.choice(\n",
    "            a=students,\n",
    "            size=4,\n",
    "            replace=False)\n",
    "sample_students"
   ]
  },
  {
   "cell_type": "code",
   "execution_count": 7,
   "metadata": {},
   "outputs": [
    {
     "name": "stdout",
     "output_type": "stream",
     "text": [
      "Week 1: student_29\n",
      "Week 2: student_29\n",
      "Week 3: student_21\n",
      "Week 4: student_7\n",
      "Week 5: student_2\n",
      "Week 6: student_22\n",
      "Week 7: student_23\n",
      "Week 8: student_28\n",
      "Week 9: student_3\n",
      "Week 10: student_2\n",
      "Week 11: student_13\n",
      "Week 12: student_9\n"
     ]
    }
   ],
   "source": [
    "sample_students2 = np.random.choice(\n",
    "            a=students,\n",
    "            size=12,\n",
    "            replace=True)\n",
    "\n",
    "for i,s in enumerate(sample_students2):\n",
    "    print(f'Week {i+1}: {s}')"
   ]
  },
  {
   "cell_type": "markdown",
   "metadata": {},
   "source": [
    "### 8.1.5 Probability as a relative frequency "
   ]
  },
  {
   "cell_type": "code",
   "execution_count": 8,
   "metadata": {},
   "outputs": [],
   "source": [
    "np.random.seed(81)\n",
    "\n",
    "one_million_tosses = np.random.randint(low=1,\n",
    "                                       high=7,\n",
    "                                       size=int(1e6))"
   ]
  },
  {
   "cell_type": "code",
   "execution_count": 9,
   "metadata": {},
   "outputs": [
    {
     "data": {
      "text/plain": [
       "array([4, 2, 1, 4, 4, 4, 2, 2, 6, 3])"
      ]
     },
     "execution_count": 9,
     "metadata": {},
     "output_type": "execute_result"
    }
   ],
   "source": [
    "one_million_tosses[:10]"
   ]
  },
  {
   "cell_type": "code",
   "execution_count": 10,
   "metadata": {},
   "outputs": [
    {
     "name": "stdout",
     "output_type": "stream",
     "text": [
      "P(A)=0.16595\n"
     ]
    }
   ],
   "source": [
    "N_A_occurs = (one_million_tosses == 2).sum()\n",
    "\n",
    "Prob_A = N_A_occurs/one_million_tosses.shape[0]\n",
    "\n",
    "print(f'P(A)={Prob_A}')"
   ]
  },
  {
   "cell_type": "code",
   "execution_count": 11,
   "metadata": {},
   "outputs": [
    {
     "name": "stdout",
     "output_type": "stream",
     "text": [
      "P(B)=0.166809\n"
     ]
    }
   ],
   "source": [
    "N_B_occurs = (one_million_tosses == 6).sum()\n",
    "\n",
    "Prob_B = N_B_occurs/one_million_tosses.shape[0]\n",
    "\n",
    "print(f'P(B)={Prob_B}')"
   ]
  },
  {
   "cell_type": "code",
   "execution_count": 12,
   "metadata": {},
   "outputs": [
    {
     "name": "stdout",
     "output_type": "stream",
     "text": [
      "P(C)=0.501162\n"
     ]
    }
   ],
   "source": [
    "N_odd_number = (\n",
    "    (one_million_tosses == 1) | \n",
    "    (one_million_tosses == 3) | \n",
    "    (one_million_tosses == 5)).sum()\n",
    "\n",
    "Prob_C = N_odd_number/one_million_tosses.shape[0]\n",
    "\n",
    "print(f'P(C)={Prob_C}')"
   ]
  },
  {
   "cell_type": "code",
   "execution_count": 13,
   "metadata": {},
   "outputs": [
    {
     "name": "stdout",
     "output_type": "stream",
     "text": [
      "P(D)=0.666004\n"
     ]
    }
   ],
   "source": [
    "N_D_occurs = (one_million_tosses < 5).sum()\n",
    "\n",
    "Prob_D = N_D_occurs/one_million_tosses.shape[0]\n",
    "\n",
    "print(f'P(D)={Prob_D}')"
   ]
  },
  {
   "cell_type": "markdown",
   "metadata": {},
   "source": [
    "### 8.1.7 Defining random variables"
   ]
  },
  {
   "cell_type": "code",
   "execution_count": 14,
   "metadata": {},
   "outputs": [],
   "source": [
    "np.random.seed(55)\n",
    "\n",
    "number_of_tosses = int(1e5)\n",
    "\n",
    "die_1 = np.random.randint(1,7, size=number_of_tosses)\n",
    "die_2 = np.random.randint(1,7, size=number_of_tosses)\n",
    "\n",
    "X = die_1 + die_2"
   ]
  },
  {
   "cell_type": "code",
   "execution_count": 15,
   "metadata": {},
   "outputs": [
    {
     "name": "stdout",
     "output_type": "stream",
     "text": [
      "[6 3 1 6 6 6 6 6 4 2]\n",
      "[1 2 3 5 1 3 3 6 3 1]\n",
      "[ 7  5  4 11  7  9  9 12  7  3]\n"
     ]
    }
   ],
   "source": [
    "print(die_1[:10])\n",
    "print(die_2[:10])\n",
    "print(X[:10])"
   ]
  },
  {
   "cell_type": "code",
   "execution_count": 16,
   "metadata": {},
   "outputs": [
    {
     "name": "stdout",
     "output_type": "stream",
     "text": [
      "P(X = 10) = 0.08329\n"
     ]
    }
   ],
   "source": [
    "Prob_X_is_10 = (X == 10).sum()/X.shape[0]\n",
    "\n",
    "print(f'P(X = 10) = {Prob_X_is_10}')"
   ]
  },
  {
   "cell_type": "code",
   "execution_count": 17,
   "metadata": {},
   "outputs": [
    {
     "name": "stdout",
     "output_type": "stream",
     "text": [
      "P(X > 5) = 0.72197\n"
     ]
    }
   ],
   "source": [
    "Prob_X_is_gt_5 = (X > 5).sum()/X.shape[0]\n",
    "\n",
    "print(f'P(X > 5) = {Prob_X_is_gt_5}')"
   ]
  },
  {
   "cell_type": "code",
   "execution_count": 18,
   "metadata": {},
   "outputs": [
    {
     "data": {
      "image/png": "[encoded data removed]",
      "text/plain": [
       "<Figure size 432x288 with 1 Axes>"
      ]
     },
     "metadata": {
      "needs_background": "light"
     },
     "output_type": "display_data"
    }
   ],
   "source": [
    "X = pd.Series(X)\n",
    "\n",
    "# counts the occurrences of each value\n",
    "freq_of_X_values = X.value_counts()\n",
    "\n",
    "freq_of_X_values.sort_index().plot(kind='bar')\n",
    "plt.grid();"
   ]
  },
  {
   "cell_type": "code",
   "execution_count": 19,
   "metadata": {},
   "outputs": [
    {
     "data": {
      "image/png": "[encoded data removed]",
      "text/plain": [
       "<Figure size 432x288 with 1 Axes>"
      ]
     },
     "metadata": {
      "needs_background": "light"
     },
     "output_type": "display_data"
    }
   ],
   "source": [
    "Prob_of_X_values = freq_of_X_values/X.shape[0]\n",
    "\n",
    "Prob_of_X_values.sort_index().plot(kind='bar')\n",
    "plt.grid();"
   ]
  },
  {
   "cell_type": "code",
   "execution_count": 20,
   "metadata": {},
   "outputs": [],
   "source": [
    "np.random.seed(97)\n",
    "ten_coins_a_million_times = np.random.randint(0, 2, size=int(10e6)).reshape(-1,10)"
   ]
  },
  {
   "cell_type": "code",
   "execution_count": 21,
   "metadata": {},
   "outputs": [
    {
     "data": {
      "text/plain": [
       "array([[0, 1, 1, 1, 1, 1, 0, 1, 1, 0],\n",
       "       [0, 0, 1, 1, 1, 0, 1, 0, 0, 0],\n",
       "       [0, 1, 0, 1, 1, 0, 0, 0, 0, 1],\n",
       "       [1, 0, 1, 1, 0, 1, 0, 0, 1, 1],\n",
       "       [1, 0, 1, 0, 1, 0, 1, 0, 0, 0],\n",
       "       [0, 1, 1, 1, 0, 1, 1, 1, 1, 0],\n",
       "       [1, 1, 1, 1, 0, 1, 0, 1, 0, 1],\n",
       "       [0, 1, 0, 0, 1, 1, 1, 0, 0, 0],\n",
       "       [1, 0, 0, 1, 1, 1, 0, 0, 0, 0],\n",
       "       [0, 1, 0, 1, 0, 1, 0, 1, 0, 1],\n",
       "       [1, 0, 1, 1, 1, 0, 0, 0, 1, 0],\n",
       "       [0, 0, 0, 0, 1, 1, 1, 0, 1, 1]])"
      ]
     },
     "execution_count": 21,
     "metadata": {},
     "output_type": "execute_result"
    }
   ],
   "source": [
    "ten_coins_a_million_times[:12, :]"
   ]
  },
  {
   "cell_type": "code",
   "execution_count": 22,
   "metadata": {},
   "outputs": [],
   "source": [
    "Y = ten_coins_a_million_times.sum(axis=1)"
   ]
  },
  {
   "cell_type": "code",
   "execution_count": 23,
   "metadata": {},
   "outputs": [
    {
     "name": "stdout",
     "output_type": "stream",
     "text": [
      "986\n",
      "P(Y = 0) = 0.000986\n"
     ]
    }
   ],
   "source": [
    "Prob_Y_is_0 = (Y == 0).sum() / Y.shape[0]\n",
    "\n",
    "print((Y == 0).sum())\n",
    "\n",
    "print(f'P(Y = 0) = {Prob_Y_is_0}')"
   ]
  },
  {
   "cell_type": "code",
   "execution_count": 24,
   "metadata": {},
   "outputs": [
    {
     "data": {
      "image/png": "[encoded data removed]",
      "text/plain": [
       "<Figure size 432x288 with 1 Axes>"
      ]
     },
     "metadata": {
      "needs_background": "light"
     },
     "output_type": "display_data"
    }
   ],
   "source": [
    "Y = pd.Series(Y)\n",
    "\n",
    "# counts the occurrences of each value\n",
    "freq_of_Y_values = Y.value_counts()\n",
    "\n",
    "Prob_of_Y_values = freq_of_Y_values/Y.shape[0]\n",
    "\n",
    "Prob_of_Y_values.sort_index().plot(kind='bar')\n",
    "plt.grid();"
   ]
  },
  {
   "cell_type": "code",
   "execution_count": 25,
   "metadata": {},
   "outputs": [
    {
     "name": "stdout",
     "output_type": "stream",
     "text": [
      "4    0.205283\n",
      "5    0.246114\n",
      "6    0.205761\n",
      "dtype: float64\n",
      "P(4<=Y<=6) = 0.657158\n"
     ]
    }
   ],
   "source": [
    "print(Prob_of_Y_values.loc[[4,5,6]])\n",
    "\n",
    "print(f'P(4<=Y<=6) = {Prob_of_Y_values.loc[[4,5,6]].sum()}')"
   ]
  },
  {
   "cell_type": "markdown",
   "metadata": {},
   "source": [
    "### 8.1.7 Exercise: calculate average wins in the roulette "
   ]
  },
  {
   "cell_type": "code",
   "execution_count": null,
   "metadata": {},
   "outputs": [],
   "source": []
  },
  {
   "cell_type": "code",
   "execution_count": null,
   "metadata": {},
   "outputs": [],
   "source": []
  },
  {
   "cell_type": "markdown",
   "metadata": {},
   "source": [
    "## 8.2 Discrete Random Variables"
   ]
  },
  {
   "cell_type": "markdown",
   "metadata": {},
   "source": [
    "### 8.2.2 Defining discrete random variables"
   ]
  },
  {
   "cell_type": "code",
   "execution_count": 26,
   "metadata": {},
   "outputs": [
    {
     "data": {
      "text/plain": [
       "array(['good', 'good', 'good', 'good', 'good', 'good', 'good',\n",
       "       'defective', 'good', 'good', 'good', 'good'], dtype='<U9')"
      ]
     },
     "execution_count": 26,
     "metadata": {},
     "output_type": "execute_result"
    }
   ],
   "source": [
    "np.random.seed(977)\n",
    "\n",
    "np.random.choice(\n",
    "    ['defective', 'good'],\n",
    "    size=12,\n",
    "    p=(0.04, 0.96)\n",
    ")"
   ]
  },
  {
   "cell_type": "code",
   "execution_count": 27,
   "metadata": {},
   "outputs": [],
   "source": [
    "np.random.seed(10)\n",
    "\n",
    "n_boxes = int(1e6)\n",
    "parts_per_box = 12\n",
    "\n",
    "one_million_boxes = np.random.choice(\n",
    "                [1, 0],\n",
    "                size=(n_boxes, parts_per_box),\n",
    "                p=(0.04, 0.96)\n",
    ")"
   ]
  },
  {
   "cell_type": "code",
   "execution_count": 28,
   "metadata": {},
   "outputs": [
    {
     "data": {
      "text/plain": [
       "array([[0, 1, 0, 0, 0, 0, 0, 0, 0, 0, 0, 0],\n",
       "       [1, 0, 0, 0, 0, 0, 0, 0, 0, 0, 0, 0],\n",
       "       [0, 0, 0, 0, 0, 0, 0, 0, 0, 0, 0, 0],\n",
       "       [0, 0, 0, 0, 0, 0, 0, 0, 0, 0, 0, 0],\n",
       "       [0, 0, 0, 0, 0, 0, 0, 0, 0, 0, 0, 0]])"
      ]
     },
     "execution_count": 28,
     "metadata": {},
     "output_type": "execute_result"
    }
   ],
   "source": [
    "one_million_boxes[:5,:]"
   ]
  },
  {
   "cell_type": "code",
   "execution_count": 29,
   "metadata": {},
   "outputs": [],
   "source": [
    "# count defective pieces per box\n",
    "defective_pieces_per_box = one_million_boxes.sum(axis=1)\n",
    "\n",
    "# count how many times we observed 0, 1, …, 12 defective pieces\n",
    "defective_pieces_per_box = pd.Series(defective_pieces_per_box)\n",
    "frequencies = defective_pieces_per_box.value_counts()\n",
    "\n",
    "# probability distribution\n",
    "probs_Z = frequencies/n_boxes"
   ]
  },
  {
   "cell_type": "code",
   "execution_count": 30,
   "metadata": {},
   "outputs": [
    {
     "name": "stdout",
     "output_type": "stream",
     "text": [
      "0    0.612402\n",
      "1    0.306383\n",
      "2    0.070584\n",
      "3    0.009630\n",
      "4    0.000940\n",
      "5    0.000056\n",
      "6    0.000004\n",
      "7    0.000001\n",
      "dtype: float64\n"
     ]
    },
    {
     "data": {
      "image/png": "[encoded data removed]",
      "text/plain": [
       "<Figure size 432x288 with 1 Axes>"
      ]
     },
     "metadata": {
      "needs_background": "light"
     },
     "output_type": "display_data"
    }
   ],
   "source": [
    "print(probs_Z.sort_index())\n",
    "probs_Z.sort_index().plot(kind='bar')\n",
    "plt.grid()"
   ]
  },
  {
   "cell_type": "markdown",
   "metadata": {},
   "source": [
    "### 8.2.3 The Binomial distribution"
   ]
  },
  {
   "cell_type": "code",
   "execution_count": 31,
   "metadata": {},
   "outputs": [],
   "source": [
    "import scipy.stats as stats"
   ]
  },
  {
   "cell_type": "code",
   "execution_count": 32,
   "metadata": {},
   "outputs": [],
   "source": [
    "Y_rv = stats.binom(\n",
    "    n=10, # number of coins\n",
    "    p=0.5 # probability of heads (success)\n",
    ")"
   ]
  },
  {
   "cell_type": "code",
   "execution_count": 33,
   "metadata": {},
   "outputs": [],
   "source": [
    "y_values = np.arange(0,11)"
   ]
  },
  {
   "cell_type": "code",
   "execution_count": 34,
   "metadata": {},
   "outputs": [],
   "source": [
    "Y_probs = Y_rv.pmf(y_values)"
   ]
  },
  {
   "cell_type": "code",
   "execution_count": 35,
   "metadata": {},
   "outputs": [
    {
     "data": {
      "image/png": "[encoded data removed]",
      "text/plain": [
       "<Figure size 432x288 with 1 Axes>"
      ]
     },
     "metadata": {
      "needs_background": "light"
     },
     "output_type": "display_data"
    }
   ],
   "source": [
    "fig, ax = plt.subplots()\n",
    "\n",
    "ax.bar(y_values, Y_probs)\n",
    "\n",
    "ax.set_xticks(y_values)\n",
    "\n",
    "ax.grid()"
   ]
  },
  {
   "cell_type": "code",
   "execution_count": 36,
   "metadata": {},
   "outputs": [
    {
     "data": {
      "image/png": "[encoded data removed]",
      "text/plain": [
       "<Figure size 432x288 with 1 Axes>"
      ]
     },
     "metadata": {
      "needs_background": "light"
     },
     "output_type": "display_data"
    }
   ],
   "source": [
    "Y_rv_df = pd.DataFrame(\n",
    "    {\n",
    "        'Y_simulated_pmf': Prob_of_Y_values,\n",
    "        'Y_theoretical_pmf':  Y_probs\n",
    "    },\n",
    "    index=y_values)\n",
    "\n",
    "Y_rv_df.plot(kind='bar')\n",
    "plt.grid();"
   ]
  },
  {
   "cell_type": "code",
   "execution_count": null,
   "metadata": {},
   "outputs": [],
   "source": [
    "stats.binom.pmf(k=1, n=12, p=0.04)"
   ]
  },
  {
   "cell_type": "markdown",
   "metadata": {},
   "source": [
    "## 8.3 Continuous Random Variables"
   ]
  },
  {
   "cell_type": "markdown",
   "metadata": {},
   "source": [
    "### 8.3.2 Defining continuous random variables"
   ]
  },
  {
   "cell_type": "code",
   "execution_count": 37,
   "metadata": {},
   "outputs": [],
   "source": [
    "games = pd.read_csv('./data/appstore_games.csv')\n",
    "\n",
    "original_colums_dict = {x: x.lower().replace(' ','_') for x in games.columns}\n",
    "\n",
    "games.rename(\n",
    "    columns = original_colums_dict,\n",
    "    inplace = True\n",
    ")"
   ]
  },
  {
   "cell_type": "code",
   "execution_count": null,
   "metadata": {},
   "outputs": [],
   "source": [
    "games['size'] = games['size']/(1e6)\n",
    "\n",
    "# replacing the one missing value with the median\n",
    "games['size'] = games['size'].fillna(games['size'].median())\n",
    "\n",
    "games['size'].hist(bins = 50, ec='k');"
   ]
  },
  {
   "cell_type": "code",
   "execution_count": null,
   "metadata": {},
   "outputs": [],
   "source": [
    "# get the number of games to use as denominator\n",
    "number_of_games = games['size'].size\n",
    "\n",
    "# calculate probabilities\n",
    "prob_X_gt_100 = (games['size'] > 100).sum()/number_of_games\n",
    "\n",
    "prob_X_bt_100_and_400 = ((games['size'] >= 100) & (games['size'] <= 400)).sum()/number_of_games\n",
    "\n",
    "prob_X_eq_152_53 = (games['size'] == 152.53).sum()/number_of_games\n",
    "\n",
    "# print the results\n",
    "print(f'P(X > 100) = {prob_X_gt_100:0.5f}')\n",
    "print(f'P(100 <= X <= 400) = {prob_X_bt_100_and_400:0.5f}')\n",
    "print(f'P(X = 152.53) = {prob_X_eq_152_53:0.5f}')"
   ]
  },
  {
   "cell_type": "markdown",
   "metadata": {},
   "source": [
    "### 8.3.3 The Normal distribution"
   ]
  },
  {
   "cell_type": "code",
   "execution_count": null,
   "metadata": {},
   "outputs": [],
   "source": [
    "# set the mu and sigma parameters of the distribution\n",
    "heights_mean = 170\n",
    "heights_sd = 10\n",
    "\n",
    "# instantiate the random variable object\n",
    "heights_rv = stats.norm(\n",
    "        loc = heights_mean, # mean of the distribution\n",
    "        scale = heights_sd  # standard deviation\n",
    ")"
   ]
  },
  {
   "cell_type": "code",
   "execution_count": null,
   "metadata": {},
   "outputs": [],
   "source": [
    "heights_rv.pdf(175)"
   ]
  },
  {
   "cell_type": "code",
   "execution_count": null,
   "metadata": {},
   "outputs": [],
   "source": [
    "values = np.linspace(130, 210, num=200)"
   ]
  },
  {
   "cell_type": "code",
   "execution_count": null,
   "metadata": {},
   "outputs": [],
   "source": [
    "heights_rv_pdf = heights_rv.pdf(values)\n",
    "\n",
    "plt.plot(values, heights_rv_pdf)\n",
    "plt.grid();"
   ]
  },
  {
   "cell_type": "code",
   "execution_count": null,
   "metadata": {},
   "outputs": [],
   "source": [
    "sample_heights = heights_rv.rvs(\n",
    "    size = 5,\n",
    "    random_state = 998 # similar to np.seed\n",
    ")\n",
    "\n",
    "for i, h in enumerate(sample_heights):\n",
    "    print(f'Men {i + 1} height: {h:0.1f}')"
   ]
  },
  {
   "cell_type": "code",
   "execution_count": null,
   "metadata": {},
   "outputs": [],
   "source": [
    "# size of the simulation\n",
    "sim_size = int(1e5)\n",
    "\n",
    "# simulate the random samples\n",
    "sample_heighs = heights_rv.rvs(\n",
    "    size = sim_size,\n",
    "    random_state = 88 # similar to np.seed\n",
    ")\n",
    "\n",
    "Prob_event = (sample_heighs > 190).sum()/sim_size\n",
    "\n",
    "print(f'Probability of a male > 190 cm : {Prob_event:0.5f} (or {100*Prob_event:0.2f}%)')"
   ]
  },
  {
   "cell_type": "markdown",
   "metadata": {},
   "source": [
    "### 8.3.4 Some properties of the Normal distribution"
   ]
  },
  {
   "cell_type": "code",
   "execution_count": null,
   "metadata": {},
   "outputs": [],
   "source": [
    "# parameters of distributions\n",
    "heights_means = [170, 170, 175]\n",
    "heights_sds = [10, 5, 10]\n",
    "countries = ['Country A', 'Country B', 'Country C']\n",
    "\n",
    "heights_rvs = {}\n",
    "plotting_values = {}\n",
    "\n",
    "# creating the random variables\n",
    "for i, country in enumerate(countries):\n",
    "    heights_rvs[country] = stats.norm(\n",
    "        loc = heights_means[i], # mean of the distribution\n",
    "        scale = heights_sds[i]  # standard deviation\n",
    "    )\n",
    "\n",
    "# getting x and y values for plotting the distributions\n",
    "for i, country in enumerate(countries):\n",
    "    x_values = np.linspace(heights_means[i] - 4*heights_sds[i], heights_means[i] + 4*heights_sds[i])\n",
    "    y_values = heights_rvs[country].pdf(x_values)\n",
    "    plotting_values[country] = (x_values, y_values)\n",
    "    \n",
    "\n",
    "# plotting the three distributions\n",
    "fig, ax = plt.subplots(figsize = (8, 4))\n",
    "for i, country in enumerate(countries):\n",
    "    ax.plot(\n",
    "        plotting_values[country][0],\n",
    "        plotting_values[country][1], \n",
    "        label=country,\n",
    "        lw = 2\n",
    "    )\n",
    "    \n",
    "ax.set_xticks(np.arange(130, 220, 5))\n",
    "plt.legend()\n",
    "plt.grid();    "
   ]
  },
  {
   "cell_type": "code",
   "execution_count": null,
   "metadata": {},
   "outputs": [],
   "source": [
    "from matplotlib.patches import Polygon\n",
    "\n",
    "def func(x):\n",
    "    return heights_rv.pdf(x)\n",
    "\n",
    "\n",
    "lower_lim = 160\n",
    "upper_lim = 180\n",
    "\n",
    "x = np.linspace(130, 210)\n",
    "y = func(x)\n",
    "\n",
    "fig, ax = plt.subplots(figsize=(8,4))\n",
    "ax.plot(x, y, 'blue', linewidth=2)\n",
    "ax.set_ylim(bottom=0)\n",
    "\n",
    "# Make the shaded region\n",
    "ix = np.linspace(lower_lim, upper_lim)\n",
    "iy = func(ix)\n",
    "verts = [(lower_lim, 0), *zip(ix, iy), (upper_lim, 0)]\n",
    "poly = Polygon(verts, facecolor='0.9', edgecolor='0.5')\n",
    "ax.add_patch(poly)\n",
    "\n",
    "ax.text(0.5 * (lower_lim + upper_lim), 0.01, r\"$\\int_{160}^{180} f(x)\\mathrm{d}x\\approx0.68$\",\n",
    "        horizontalalignment='center', fontsize=12)\n",
    "\n",
    "fig.text(0.85, 0.05, '$height$')\n",
    "fig.text(0.08, 0.85, '$f(x)$')\n",
    "\n",
    "ax.spines['right'].set_visible(False)\n",
    "ax.spines['top'].set_visible(False)\n",
    "ax.xaxis.set_ticks_position('bottom')\n",
    "\n",
    "ax.set_xticks((lower_lim, upper_lim))\n",
    "ax.set_xticklabels(('$160$', '$180$'))\n",
    "ax.set_yticks([]);"
   ]
  },
  {
   "cell_type": "code",
   "execution_count": null,
   "metadata": {},
   "outputs": [],
   "source": [
    "# limits of the integral\n",
    "lower_lim = 160\n",
    "upper_lim = 180\n",
    "\n",
    "# calculating the area under the curve\n",
    "Prob_X_in_160_180 = heights_rv.cdf(upper_lim) - heights_rv.cdf(lower_lim)\n",
    "\n",
    "# print the result\n",
    "print(f'Prob(160 <= X <= 180) = {Prob_X_in_160_180:0.4f}')"
   ]
  },
  {
   "cell_type": "code",
   "execution_count": null,
   "metadata": {},
   "outputs": [],
   "source": [
    "# limits of the integral\n",
    "lower_lim = 190\n",
    "upper_lim = np.Inf\n",
    "\n",
    "# calculating the area under the curve\n",
    "Prob_X_gt_190 = heights_rv.cdf(upper_lim) - heights_rv.cdf(lower_lim)\n",
    "\n",
    "# print the result\n",
    "print(f'Probability of a male > 190 cm : {Prob_X_gt_190:0.5f} (or {100*Prob_X_gt_190:0.2f}%)')"
   ]
  },
  {
   "cell_type": "markdown",
   "metadata": {},
   "source": [
    "### 8.3.5 Exercise: using the normal distribution in education"
   ]
  },
  {
   "cell_type": "code",
   "execution_count": null,
   "metadata": {},
   "outputs": [],
   "source": []
  }
 ],
 "metadata": {
  "kernelspec": {
   "display_name": "Python 3",
   "language": "python",
   "name": "python3"
  },
  "language_info": {
   "codemirror_mode": {
    "name": "ipython",
    "version": 3
   },
   "file_extension": ".py",
   "mimetype": "text/x-python",
   "name": "python",
   "nbconvert_exporter": "python",
   "pygments_lexer": "ipython3",
   "version": "3.7.5"
  }
 },
 "nbformat": 4,
 "nbformat_minor": 2
}
