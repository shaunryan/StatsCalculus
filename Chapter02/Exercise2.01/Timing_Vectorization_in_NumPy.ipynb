{
 "cells": [
  {
   "cell_type": "code",
   "execution_count": 1,
   "metadata": {},
   "outputs": [],
   "source": [
    "import numpy as np\n",
    "from timeit import Timer"
   ]
  },
  {
   "cell_type": "code",
   "execution_count": 2,
   "metadata": {},
   "outputs": [],
   "source": [
    "my_list = list(range(10 ** 6))\n",
    "my_array = np.array(my_list)"
   ]
  },
  {
   "cell_type": "code",
   "execution_count": 3,
   "metadata": {},
   "outputs": [],
   "source": [
    "def for_add():\n",
    "    return [item + 1 for item in my_list]\n",
    "\n",
    "def vec_add():\n",
    "    return my_array + 1"
   ]
  },
  {
   "cell_type": "code",
   "execution_count": 4,
   "metadata": {},
   "outputs": [
    {
     "name": "stdout",
     "output_type": "stream",
     "text": [
      "For-loop addition:\n",
      "0.5640330809999909\n",
      "Vectorized addition:\n",
      "0.006047582000007878\n"
     ]
    }
   ],
   "source": [
    "print('For-loop addition:')\n",
    "print(min(Timer(for_add).repeat(10, 10)))\n",
    "\n",
    "print('Vectorized addition:')\n",
    "print(min(Timer(vec_add).repeat(10, 10)))"
   ]
  },
  {
   "cell_type": "code",
   "execution_count": 6,
   "metadata": {},
   "outputs": [
    {
     "name": "stdout",
     "output_type": "stream",
     "text": [
      "For-loop multiplication:\n",
      "0.5431750800000259\n",
      "Vectorized multiplication:\n",
      "0.005795304000002943\n"
     ]
    }
   ],
   "source": [
    "def for_mul():\n",
    "    return [item * 2 for item in my_list]\n",
    "\n",
    "def vec_mul():\n",
    "    return my_array * 2\n",
    "\n",
    "print('For-loop multiplication:')\n",
    "print(min(Timer(for_mul).repeat(10, 10)))\n",
    "\n",
    "print('Vectorized multiplication:')\n",
    "print(min(Timer(vec_mul).repeat(10, 10)))"
   ]
  },
  {
   "cell_type": "code",
   "execution_count": 10,
   "metadata": {},
   "outputs": [
    {
     "name": "stdout",
     "output_type": "stream",
     "text": [
      "For-loop square root:\n",
      "1.1018582749999268\n",
      "Vectorized square root:\n",
      "0.01677640299999439\n"
     ]
    }
   ],
   "source": [
    "import math\n",
    "\n",
    "def for_sqrt():\n",
    "    return [math.sqrt(item) for item in my_list]\n",
    "\n",
    "def vec_sqrt():\n",
    "    return np.sqrt(my_array)\n",
    "\n",
    "print('For-loop square root:')\n",
    "print(min(Timer(for_sqrt).repeat(10, 10)))\n",
    "\n",
    "print('Vectorized square root:')\n",
    "print(min(Timer(vec_sqrt).repeat(10, 10)))"
   ]
  },
  {
   "cell_type": "code",
   "execution_count": null,
   "metadata": {},
   "outputs": [],
   "source": []
  }
 ],
 "metadata": {
  "kernelspec": {
   "display_name": "Python 3",
   "language": "python",
   "name": "python3"
  },
  "language_info": {
   "codemirror_mode": {
    "name": "ipython",
    "version": 3
   },
   "file_extension": ".py",
   "mimetype": "text/x-python",
   "name": "python",
   "nbconvert_exporter": "python",
   "pygments_lexer": "ipython3",
   "version": "3.7.4"
  }
 },
 "nbformat": 4,
 "nbformat_minor": 2
}
