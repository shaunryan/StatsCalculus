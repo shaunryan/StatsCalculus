{
 "cells": [
  {
   "cell_type": "code",
   "execution_count": 7,
   "metadata": {},
   "outputs": [],
   "source": [
    "def f(x):\n",
    "    return x**2\n",
    "\n",
    "def derivative(f,x):\n",
    "    \"\"\"Returns the value of the derivative of\n",
    "    the function at a given x-value.\"\"\"\n",
    "    delta_x = 1/1000000\n",
    "    return (f(x+delta_x) - f(x))/delta_x"
   ]
  },
  {
   "cell_type": "code",
   "execution_count": 8,
   "metadata": {
    "scrolled": true
   },
   "outputs": [
    {
     "name": "stdout",
     "output_type": "stream",
     "text": [
      "-3 -6.0\n",
      "-2 -4.0\n",
      "-1 -2.0\n",
      "0 0.0\n",
      "1 2.0\n",
      "2 4.0\n",
      "3 6.0\n"
     ]
    }
   ],
   "source": [
    "for i in range(-3,4):\n",
    "    print(i,round(derivative(f,i),1))\n"
   ]
  },
  {
   "cell_type": "code",
   "execution_count": 9,
   "metadata": {},
   "outputs": [
    {
     "name": "stdout",
     "output_type": "stream",
     "text": [
      "71.99996399265274 0.30151133101341543 -0.18749981253729509\n"
     ]
    }
   ],
   "source": [
    "from math import sqrt\n",
    "\n",
    "def f(x):\n",
    "    return 6*x**3\n",
    "\n",
    "def g(x):\n",
    "    return sqrt(2*x + 5)\n",
    "\n",
    "def h(x):\n",
    "    return 1/(x-3)**3\n",
    "\n",
    "def derivative(f,x):\n",
    "    \"\"\"Returns the value of the derivative of\n",
    "    the function at a given x-value.\"\"\"\n",
    "    delta_x = 1/1000000\n",
    "    return (f(x+delta_x) - f(x))/delta_x\n",
    "\n",
    "print(derivative(f,-2),derivative(g,3),derivative(h,5))"
   ]
  },
  {
   "cell_type": "code",
   "execution_count": 10,
   "metadata": {},
   "outputs": [
    {
     "name": "stdout",
     "output_type": "stream",
     "text": [
      "y =  2.61 x +  1.68\n",
      "y =  -1.33 x +  1.3\n"
     ]
    }
   ],
   "source": [
    "def f(x):\n",
    "    return x**3 - 2*x**2 + 1\n",
    "\n",
    "def point_slope(m,x,y):\n",
    "    \"\"\"Finds the y-intercept of a line\n",
    "    given its slope m and a point (x,y)\"\"\"\n",
    "    return y-m*x\n",
    "\n",
    "def tangent_line(f,x):\n",
    "    \"\"\"Finds the equation of the line \n",
    "    tangent to f at x.\"\"\"\n",
    "    m = derivative(f,x)\n",
    "    y0 = f(x)\n",
    "    b = point_slope(m,x,y0)\n",
    "    print(\"y = \",round(m,2),\"x + \",round(b,2))\n",
    "\n",
    "for x in [-0.48,0.67]:\n",
    "    tangent_line(f,x)\n",
    "    "
   ]
  },
  {
   "cell_type": "code",
   "execution_count": 11,
   "metadata": {},
   "outputs": [
    {
     "name": "stdout",
     "output_type": "stream",
     "text": [
      "1000 0.33283350000000034\n"
     ]
    }
   ],
   "source": [
    "def f(x):\n",
    "    return x**2\n",
    "\n",
    "number_of_rectangles = 20\n",
    "\n",
    "def integral(f,a,b,num):\n",
    "    \"\"\"Returns the sum of num rectangles\n",
    "    under f between a and b\"\"\"\n",
    "    width = (b-a)/num\n",
    "    area = sum([width*f(a+width*n) for n in range(num)])\n",
    "    return area\n",
    "\n",
    "print(1000,integral(f,0,1,1000))\n",
    "        "
   ]
  },
  {
   "cell_type": "code",
   "execution_count": 4,
   "metadata": {},
   "outputs": [
    {
     "name": "stdout",
     "output_type": "stream",
     "text": [
      "-2.000006579749256\n"
     ]
    }
   ],
   "source": [
    "from math import cos,pi\n",
    "\n",
    "def f(x):\n",
    "    return x*cos(x)\n",
    "    \n",
    "def trap_integral(f,a,b,num):\n",
    "    \"\"\"Returns the sum of num trapezoids\n",
    "    under f between a and b\"\"\"\n",
    "    width = (b-a)/num\n",
    "    area = 0.5*width*(f(a) + f(b) + 2*sum([f(a+width*n) for n in range(1,num)]))\n",
    "    return area\n",
    "\n",
    "print(trap_integral(f,0,pi,500))"
   ]
  },
  {
   "cell_type": "code",
   "execution_count": 13,
   "metadata": {},
   "outputs": [
    {
     "name": "stdout",
     "output_type": "stream",
     "text": [
      "46.75017499999999\n",
      "2.1213094390731206\n",
      "18.416792708494786\n"
     ]
    }
   ],
   "source": [
    "from math import cos,pi\n",
    "\n",
    "def f(x):\n",
    "    return x**3 + 3\n",
    "\n",
    "def g(x):\n",
    "    return 3*cos(x)\n",
    "\n",
    "def h(x):\n",
    "    return ((x**2 - 1)*(x**2+1))/x**2\n",
    "\n",
    "print(trap_integral(f,3,4,100))\n",
    "print(trap_integral(g,0,pi/4,100))\n",
    "print(trap_integral(h,2,4,100))"
   ]
  },
  {
   "cell_type": "code",
   "execution_count": 14,
   "metadata": {},
   "outputs": [
    {
     "name": "stdout",
     "output_type": "stream",
     "text": [
      "1.5692255304681022\n"
     ]
    }
   ],
   "source": [
    "from math import sqrt, pi\n",
    "\n",
    "def f(x):\n",
    "    return sqrt(x)\n",
    "\n",
    "def vol_solid(f,a,b):\n",
    "    volume = 0\n",
    "    num = 1000\n",
    "    width = (b-a)/num\n",
    "    for i in range(num):\n",
    "    #     volume of cylindrical disk\n",
    "    #     pi*radius**2*width\n",
    "        vol = pi*(f(a+i*width))**2*width\n",
    "        volume += vol    \n",
    "    return volume\n",
    "print(vol_solid(f,0,1))"
   ]
  },
  {
   "cell_type": "code",
   "execution_count": 15,
   "metadata": {},
   "outputs": [
    {
     "name": "stdout",
     "output_type": "stream",
     "text": [
      "5.330413500268973\n"
     ]
    }
   ],
   "source": [
    "print(pi/6*(5*sqrt(5)-1))"
   ]
  },
  {
   "cell_type": "code",
   "execution_count": 16,
   "metadata": {},
   "outputs": [
    {
     "name": "stdout",
     "output_type": "stream",
     "text": [
      "50.26548245743666\n"
     ]
    }
   ],
   "source": [
    "def f(x):\n",
    "    return 4 -4*x**2\n",
    "\n",
    "def g(x):\n",
    "    return 1-x**2\n",
    "\n",
    "def h(x):\n",
    "    return f(x)**2-g(x)**2\n",
    "\n",
    "def vol_solid(f,a,b):\n",
    "    volume = 0\n",
    "    num = 10000\n",
    "    width = (b-a)/num\n",
    "    for i in range(num):\n",
    "    #     volume of cylindrical disk\n",
    "    #     pi*radius**2*width\n",
    "        vol = pi*(h(a+i*width))*width\n",
    "        volume += vol    \n",
    "    return volume\n",
    "print(vol_solid(h,-1,1))"
   ]
  },
  {
   "cell_type": "code",
   "execution_count": 17,
   "metadata": {},
   "outputs": [
    {
     "data": {
      "text/plain": [
       "50.26548245743669"
      ]
     },
     "execution_count": 17,
     "metadata": {},
     "output_type": "execute_result"
    }
   ],
   "source": [
    "16*pi"
   ]
  },
  {
   "cell_type": "code",
   "execution_count": 18,
   "metadata": {},
   "outputs": [
    {
     "name": "stdout",
     "output_type": "stream",
     "text": [
      "Max/Min at x= 0.247000000113438 y= 0.9906440229999803\n",
      "Max/Min at x= 1.6200000001133703 y= -0.3027919999998646\n"
     ]
    }
   ],
   "source": [
    "def f(x):\n",
    "    return x**3-2.8*x**2+1.2*x+0.85\n",
    "\n",
    "def find_max_mins(f,start,stop,step=0.001):\n",
    "    x = start\n",
    "    deriv = derivative(f,x)\n",
    "    while x < stop:\n",
    "        x += step\n",
    "        #take derivative at new x:\n",
    "        newderiv = derivative(f,x)\n",
    "        #if derivative changes sign\n",
    "        if newderiv == 0 or deriv*newderiv < 0:\n",
    "            print(\"Max/Min at x=\",x,\"y=\",f(x))\n",
    "            #change deriv to newderiv\n",
    "            deriv = newderiv\n",
    "    \n",
    "find_max_mins(f,-100,100)    "
   ]
  },
  {
   "cell_type": "code",
   "execution_count": 19,
   "metadata": {},
   "outputs": [
    {
     "name": "stdout",
     "output_type": "stream",
     "text": [
      "Max/Min at x= 4.4999999999998375 y= 3.4000000000000004\n"
     ]
    }
   ],
   "source": [
    "from math import sqrt\n",
    "\n",
    "def t(x):\n",
    "    return sqrt(x**2+36)/3 + (9-x)/5\n",
    "    \n",
    "find_max_mins(t,0,9) "
   ]
  },
  {
   "cell_type": "code",
   "execution_count": 32,
   "metadata": {},
   "outputs": [
    {
     "name": "stdout",
     "output_type": "stream",
     "text": [
      "Max/Min at x= 1.8109999999999113 y= 96.77057492400002\n"
     ]
    }
   ],
   "source": [
    "def v(x):\n",
    "    return x*(10-2*x)*(12-2*x)\n",
    "    \n",
    "find_max_mins(v,0,5) "
   ]
  },
  {
   "cell_type": "code",
   "execution_count": 30,
   "metadata": {},
   "outputs": [
    {
     "name": "stdout",
     "output_type": "stream",
     "text": [
      "Max/Min at x= 1.1529999999999838 y= 0.40306652536733706\n"
     ]
    }
   ],
   "source": [
    "from math import pi,sqrt,degrees\n",
    "\n",
    "def vnew(theta):\n",
    "    r = (2*pi - theta)/(2*pi)\n",
    "    h = sqrt(1-r**2)\n",
    "    return (1/3)*pi*r**2*h\n",
    "\n",
    "find_max_mins(v,0,6.28)"
   ]
  },
  {
   "cell_type": "code",
   "execution_count": 22,
   "metadata": {},
   "outputs": [
    {
     "data": {
      "text/plain": [
       "66.06123086601868"
      ]
     },
     "execution_count": 22,
     "metadata": {},
     "output_type": "execute_result"
    }
   ],
   "source": [
    "degrees(2*pi*(1-sqrt(6)/3))"
   ]
  },
  {
   "cell_type": "code",
   "execution_count": 23,
   "metadata": {},
   "outputs": [
    {
     "name": "stdout",
     "output_type": "stream",
     "text": [
      "Max/Min at x= 1.1999999999999786 y= 16.0\n"
     ]
    }
   ],
   "source": [
    "from math import sqrt\n",
    "\n",
    "def d(t):\n",
    "    return sqrt((20-6*t)**2+(8*t)**2)\n",
    "\n",
    "find_max_mins(d,0,4)"
   ]
  },
  {
   "cell_type": "code",
   "execution_count": 36,
   "metadata": {},
   "outputs": [
    {
     "data": {
      "image/png": "[encoded data removed]",
      "text/plain": [
       "<Figure size 432x288 with 1 Axes>"
      ]
     },
     "metadata": {
      "needs_background": "light"
     },
     "output_type": "display_data"
    }
   ],
   "source": [
    "import matplotlib.pyplot as plt\n",
    "import numpy\n",
    "%matplotlib inline\n",
    "\n",
    "x = numpy.linspace(0,2,50) #50 points between 0 and 10\n",
    "y = [d(a) for a in x] #list of corresponding y-values\n",
    "\n",
    "plt.plot(x,y)\n",
    "plt.xlabel(\"Time (hours)\")\n",
    "plt.ylabel(\"Distance (km)\")\n",
    "plt.show()"
   ]
  },
  {
   "cell_type": "code",
   "execution_count": 34,
   "metadata": {},
   "outputs": [
    {
     "data": {
      "image/png": "[encoded data removed]",
      "text/plain": [
       "<Figure size 432x288 with 1 Axes>"
      ]
     },
     "metadata": {
      "needs_background": "light"
     },
     "output_type": "display_data"
    }
   ],
   "source": [
    "import matplotlib.pyplot as plt\n",
    "import numpy\n",
    "%matplotlib inline\n",
    "\n",
    "x = numpy.linspace(0,5,50) #50 points between 0 and 10\n",
    "y = [v(a) for a in x] #list of corresponding y-values\n",
    "\n",
    "plt.plot(x,y)\n",
    "plt.xlabel(\"Length of Cut (inches)\")\n",
    "plt.ylabel(\"Volume (cubic inches)\")\n",
    "plt.show()\n"
   ]
  },
  {
   "cell_type": "code",
   "execution_count": 25,
   "metadata": {},
   "outputs": [
    {
     "name": "stdout",
     "output_type": "stream",
     "text": [
      "Max/Min at x= 4.834999999999949 y= 220.28763352297025\n"
     ]
    }
   ],
   "source": [
    "from math import pi\n",
    "\n",
    "def surf_area(r):\n",
    "    return pi*r**2 + 710/r\n",
    "\n",
    "find_max_mins(surf_area,0.1,10)"
   ]
  },
  {
   "cell_type": "code",
   "execution_count": 26,
   "metadata": {},
   "outputs": [
    {
     "name": "stdout",
     "output_type": "stream",
     "text": [
      "7.663303602108134\n"
     ]
    }
   ],
   "source": [
    "print(355/(pi*3.84**2))"
   ]
  },
  {
   "cell_type": "code",
   "execution_count": 27,
   "metadata": {},
   "outputs": [
    {
     "name": "stderr",
     "output_type": "stream",
     "text": [
      "c:\\users\\farrell family\\appdata\\local\\programs\\python\\python37\\lib\\site-packages\\ipykernel_launcher.py:4: RuntimeWarning: divide by zero encountered in double_scalars\n",
      "  after removing the cwd from sys.path.\n"
     ]
    },
    {
     "data": {
      "image/png": "[encoded data removed]",
      "text/plain": [
       "<Figure size 432x288 with 1 Axes>"
      ]
     },
     "metadata": {
      "needs_background": "light"
     },
     "output_type": "display_data"
    }
   ],
   "source": [
    "import matplotlib.pyplot as plt\n",
    "import numpy\n",
    "%matplotlib inline\n",
    "\n",
    "x = numpy.linspace(0,10,50) #50 points between 0 and 10\n",
    "y = [surf_area(a) for a in x] #list of corresponding y-values\n",
    "\n",
    "plt.plot(x,y)\n",
    "plt.xlabel(\"Radius of Can (cm)\")\n",
    "plt.ylabel(\"Material (cubic cm)\")\n",
    "plt.show()\n"
   ]
  },
  {
   "cell_type": "code",
   "execution_count": 28,
   "metadata": {},
   "outputs": [
    {
     "data": {
      "text/plain": [
       "4.904514305349205"
      ]
     },
     "execution_count": 28,
     "metadata": {},
     "output_type": "execute_result"
    }
   ],
   "source": [
    "355/(pi*4.8**2)"
   ]
  },
  {
   "cell_type": "code",
   "execution_count": 29,
   "metadata": {},
   "outputs": [
    {
     "data": {
      "text/plain": [
       "354.67324421967334"
      ]
     },
     "execution_count": 29,
     "metadata": {},
     "output_type": "execute_result"
    }
   ],
   "source": [
    "pi*4.8**2*4.9"
   ]
  },
  {
   "cell_type": "code",
   "execution_count": null,
   "metadata": {},
   "outputs": [],
   "source": []
  }
 ],
 "metadata": {
  "kernelspec": {
   "display_name": "Python 3",
   "language": "python",
   "name": "python3"
  },
  "language_info": {
   "codemirror_mode": {
    "name": "ipython",
    "version": 3
   },
   "file_extension": ".py",
   "mimetype": "text/x-python",
   "name": "python",
   "nbconvert_exporter": "python",
   "pygments_lexer": "ipython3",
   "version": "3.7.3"
  }
 },
 "nbformat": 4,
 "nbformat_minor": 2
}
