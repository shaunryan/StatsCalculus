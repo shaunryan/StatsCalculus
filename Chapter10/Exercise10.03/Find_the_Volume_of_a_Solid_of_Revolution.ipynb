{
 "cells": [
  {
   "cell_type": "code",
   "execution_count": 2,
   "metadata": {},
   "outputs": [
    {
     "name": "stdout",
     "output_type": "stream",
     "text": [
      "50.26548245743666\n"
     ]
    }
   ],
   "source": [
    "from math import pi\n",
    "\n",
    "def f(x):\n",
    "    return 4 -4*x**2\n",
    "\n",
    "def g(x):\n",
    "    return 1-x**2\n",
    "\n",
    "def h(x):\n",
    "    return f(x)**2-g(x)**2\n",
    "\n",
    "def vol_solid(f,a,b):\n",
    "    volume = 0\n",
    "    num = 10000\n",
    "    width = (b-a)/num\n",
    "    for i in range(num):\n",
    "        vol = pi*(f(a+i*width))*width\n",
    "        volume += vol    \n",
    "    return volume\n",
    "\n",
    "\n",
    "print(vol_solid(h,-1,1))\n"
   ]
  },
  {
   "cell_type": "code",
   "execution_count": null,
   "metadata": {},
   "outputs": [],
   "source": []
  }
 ],
 "metadata": {
  "kernelspec": {
   "display_name": "Python 3",
   "language": "python",
   "name": "python3"
  },
  "language_info": {
   "codemirror_mode": {
    "name": "ipython",
    "version": 3
   },
   "file_extension": ".py",
   "mimetype": "text/x-python",
   "name": "python",
   "nbconvert_exporter": "python",
   "pygments_lexer": "ipython3",
   "version": "3.7.3"
  }
 },
 "nbformat": 4,
 "nbformat_minor": 2
}
