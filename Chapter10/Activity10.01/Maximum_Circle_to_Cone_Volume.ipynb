{
 "cells": [
  {
   "cell_type": "code",
   "execution_count": 3,
   "metadata": {},
   "outputs": [
    {
     "name": "stdout",
     "output_type": "stream",
     "text": [
      "Max/Min at x= 1.1529999999999838 y= 0.40306652536733706\n"
     ]
    }
   ],
   "source": [
    "from math import pi,sqrt,degrees\n",
    "\n",
    "def v(theta):\n",
    "    r = (2*pi - theta)/(2*pi) \n",
    "    h = sqrt(1-r**2)\n",
    "    return (1/3)*pi*r**2*h\n",
    "\n",
    "def derivative(f,x):\n",
    "    \"\"\"Returns the value of the derivative of\n",
    "    the function at a given x-value.\"\"\"\n",
    "    delta_x = 1/1000000\n",
    "    return (f(x+delta_x) - f(x))/delta_x\n",
    "\n",
    "def find_max_mins(f,start,stop,step=0.001):\n",
    "    x = start\n",
    "    deriv = derivative(f,x)\n",
    "    while x < stop:\n",
    "        x += step\n",
    "        #take derivative at new x:\n",
    "        newderiv = derivative(f,x)\n",
    "        #if derivative changes sign\n",
    "        if newderiv == 0 or deriv*newderiv < 0:\n",
    "            print(\"Max/Min at x=\",x,\"y=\",f(x))\n",
    "            #change deriv to newderiv\n",
    "            deriv = newderiv\n",
    "            \n",
    "find_max_mins(v,0,6.28)"
   ]
  },
  {
   "cell_type": "code",
   "execution_count": null,
   "metadata": {},
   "outputs": [],
   "source": []
  }
 ],
 "metadata": {
  "kernelspec": {
   "display_name": "Python 3",
   "language": "python",
   "name": "python3"
  },
  "language_info": {
   "codemirror_mode": {
    "name": "ipython",
    "version": 3
   },
   "file_extension": ".py",
   "mimetype": "text/x-python",
   "name": "python",
   "nbconvert_exporter": "python",
   "pygments_lexer": "ipython3",
   "version": "3.7.3"
  }
 },
 "nbformat": 4,
 "nbformat_minor": 2
}
