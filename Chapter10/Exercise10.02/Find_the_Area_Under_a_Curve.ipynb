{
 "cells": [
  {
   "cell_type": "code",
   "execution_count": 2,
   "metadata": {},
   "outputs": [
    {
     "name": "stdout",
     "output_type": "stream",
     "text": [
      "46.75017499999999\n",
      "2.1213094390731206\n",
      "18.416792708494786\n"
     ]
    }
   ],
   "source": [
    "from math import cos,pi\n",
    "\n",
    "def trap_integral(f,a,b,num):\n",
    "    \"\"\"Returns the sum of num trapezoids\n",
    "    under f between a and b\"\"\"\n",
    "    width = (b-a)/num\n",
    "    area = 0.5*width*(f(a) + f(b) + 2*sum([f(a+width*n) for n in range(1,num)]))\n",
    "    return area\n",
    "\n",
    "def f(x):\n",
    "    return x**3 + 3\n",
    "\n",
    "def g(x):\n",
    "    return 3*cos(x)\n",
    "\n",
    "def h(x):\n",
    "    return ((x**2 - 1)*(x**2+1))/x**2\n",
    "\n",
    "print(trap_integral(f,3,4,100))\n",
    "print(trap_integral(g,0,pi/4,100))\n",
    "print(trap_integral(h,2,4,100))\n"
   ]
  },
  {
   "cell_type": "code",
   "execution_count": null,
   "metadata": {},
   "outputs": [],
   "source": []
  }
 ],
 "metadata": {
  "kernelspec": {
   "display_name": "Python 3",
   "language": "python",
   "name": "python3"
  },
  "language_info": {
   "codemirror_mode": {
    "name": "ipython",
    "version": 3
   },
   "file_extension": ".py",
   "mimetype": "text/x-python",
   "name": "python",
   "nbconvert_exporter": "python",
   "pygments_lexer": "ipython3",
   "version": "3.7.3"
  }
 },
 "nbformat": 4,
 "nbformat_minor": 2
}
