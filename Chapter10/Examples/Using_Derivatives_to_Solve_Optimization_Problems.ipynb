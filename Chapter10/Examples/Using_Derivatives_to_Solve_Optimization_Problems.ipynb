{
 "cells": [
  {
   "cell_type": "code",
   "execution_count": 2,
   "metadata": {},
   "outputs": [
    {
     "name": "stdout",
     "output_type": "stream",
     "text": [
      "Max/Min at x= 0.247000000113438 y= 0.9906440229999803\n",
      "Max/Min at x= 1.6200000001133703 y= -0.3027919999998646\n"
     ]
    }
   ],
   "source": [
    "def derivative(f,x):\n",
    "    \"\"\"Returns the value of the derivative of\n",
    "    the function at a given x-value.\"\"\"\n",
    "    delta_x = 1/1000000\n",
    "    return (f(x+delta_x) - f(x))/delta_x\n",
    "\n",
    "def f(x):\n",
    "    return x**3-2.8*x**2+1.2*x+0.85\n",
    "\n",
    "def find_max_mins(f,start,stop,step=0.001):\n",
    "    x = start\n",
    "    deriv = derivative(f,x)\n",
    "    while x < stop:\n",
    "        x += step\n",
    "        #take derivative at new x:\n",
    "        newderiv = derivative(f,x)\n",
    "        #if derivative changes sign\n",
    "        if newderiv == 0 or deriv*newderiv < 0:\n",
    "            print(\"Max/Min at x=\",x,\"y=\",f(x))\n",
    "            #change deriv to newderiv\n",
    "            deriv = newderiv\n",
    "\n",
    "find_max_mins(f,-100,100)\n"
   ]
  },
  {
   "cell_type": "code",
   "execution_count": null,
   "metadata": {},
   "outputs": [],
   "source": []
  }
 ],
 "metadata": {
  "kernelspec": {
   "display_name": "Python 3",
   "language": "python",
   "name": "python3"
  },
  "language_info": {
   "codemirror_mode": {
    "name": "ipython",
    "version": 3
   },
   "file_extension": ".py",
   "mimetype": "text/x-python",
   "name": "python",
   "nbconvert_exporter": "python",
   "pygments_lexer": "ipython3",
   "version": "3.7.3"
  }
 },
 "nbformat": 4,
 "nbformat_minor": 2
}
