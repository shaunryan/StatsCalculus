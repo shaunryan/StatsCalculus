{
 "cells": [
  {
   "cell_type": "code",
   "execution_count": 1,
   "metadata": {},
   "outputs": [
    {
     "name": "stdout",
     "output_type": "stream",
     "text": [
      "1 0.0\n",
      "2 0.125\n",
      "3 0.18518518518518517\n",
      "4 0.21875\n",
      "5 0.24000000000000005\n",
      "6 0.2546296296296296\n",
      "7 0.26530612244897955\n",
      "8 0.2734375\n",
      "9 0.279835390946502\n",
      "10 0.2850000000000001\n",
      "11 0.2892561983471075\n",
      "12 0.292824074074074\n",
      "13 0.2958579881656805\n",
      "14 0.29846938775510196\n",
      "15 0.30074074074074075\n",
      "16 0.302734375\n",
      "17 0.3044982698961938\n",
      "18 0.3060699588477366\n",
      "19 0.3074792243767312\n",
      "20 0.3087500000000001\n"
     ]
    }
   ],
   "source": [
    "def f(x):\n",
    "    return x**2\n",
    "\n",
    "number_of_rectangles = 20\n",
    "\n",
    "def integral(f,a,b,num):\n",
    "    \"\"\"Returns the sum of num rectangles\n",
    "    under f between a and b\"\"\"\n",
    "    width = (b-a)/num\n",
    "    area = sum([width*f(a+width*n) for n in range(num)])\n",
    "    return area\n",
    "\n",
    "for i in range(1,21):\n",
    "    print(i,integral(f,0,1,i))\n"
   ]
  },
  {
   "cell_type": "code",
   "execution_count": 2,
   "metadata": {},
   "outputs": [
    {
     "name": "stdout",
     "output_type": "stream",
     "text": [
      "100 0.32835000000000014\n"
     ]
    }
   ],
   "source": [
    "print(100,integral(f,0,1,100))"
   ]
  },
  {
   "cell_type": "code",
   "execution_count": 3,
   "metadata": {},
   "outputs": [
    {
     "name": "stdout",
     "output_type": "stream",
     "text": [
      "1000 0.33283350000000034\n"
     ]
    }
   ],
   "source": [
    "print(1000,integral(f,0,1,1000))"
   ]
  },
  {
   "cell_type": "code",
   "execution_count": null,
   "metadata": {},
   "outputs": [],
   "source": []
  }
 ],
 "metadata": {
  "kernelspec": {
   "display_name": "Python 3",
   "language": "python",
   "name": "python3"
  },
  "language_info": {
   "codemirror_mode": {
    "name": "ipython",
    "version": 3
   },
   "file_extension": ".py",
   "mimetype": "text/x-python",
   "name": "python",
   "nbconvert_exporter": "python",
   "pygments_lexer": "ipython3",
   "version": "3.7.3"
  }
 },
 "nbformat": 4,
 "nbformat_minor": 2
}
