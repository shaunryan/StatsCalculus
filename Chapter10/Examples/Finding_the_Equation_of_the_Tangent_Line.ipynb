{
 "cells": [
  {
   "cell_type": "code",
   "execution_count": 3,
   "metadata": {},
   "outputs": [
    {
     "name": "stdout",
     "output_type": "stream",
     "text": [
      "y =  2.61 x +  1.68\n",
      "y =  -1.33 x +  1.3\n"
     ]
    }
   ],
   "source": [
    "def derivative(f,x):\n",
    "    \"\"\"Returns the value of the derivative of\n",
    "    the function at a given x-value.\"\"\"\n",
    "    delta_x = 1/1000000\n",
    "    return (f(x+delta_x) - f(x))/delta_x\n",
    "\n",
    "def f(x):\n",
    "    return x**3 - 2*x**2 + 1\n",
    "\n",
    "def point_slope(m,x,y):\n",
    "    \"\"\"Finds the y-intercept of a line\n",
    "    given its slope m and a point (x,y)\"\"\"\n",
    "    return y-m*x\n",
    "\n",
    "def tangent_line(f,x):\n",
    "    \"\"\"Finds the equation of the line \n",
    "    tangent to f at x.\"\"\"\n",
    "\n",
    "    m = derivative(f,x)\n",
    "\n",
    "    y0 = f(x)\n",
    "    b = point_slope(m,x,y0)\n",
    "\n",
    "    print(\"y = \",round(m,2),\"x + \",round(b,2))\n",
    "\n",
    "for x in [-0.48,0.67]:\n",
    "    tangent_line(f,x)\n"
   ]
  },
  {
   "cell_type": "code",
   "execution_count": null,
   "metadata": {},
   "outputs": [],
   "source": []
  }
 ],
 "metadata": {
  "kernelspec": {
   "display_name": "Python 3",
   "language": "python",
   "name": "python3"
  },
  "language_info": {
   "codemirror_mode": {
    "name": "ipython",
    "version": 3
   },
   "file_extension": ".py",
   "mimetype": "text/x-python",
   "name": "python",
   "nbconvert_exporter": "python",
   "pygments_lexer": "ipython3",
   "version": "3.7.3"
  }
 },
 "nbformat": 4,
 "nbformat_minor": 2
}
