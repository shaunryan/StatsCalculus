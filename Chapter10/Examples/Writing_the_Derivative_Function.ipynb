{
 "cells": [
  {
   "cell_type": "code",
   "execution_count": 1,
   "metadata": {},
   "outputs": [
    {
     "name": "stdout",
     "output_type": "stream",
     "text": [
      "-3 -5.999999000749767\n",
      "-2 -3.999998999582033\n",
      "-1 -1.999999000079633\n",
      "0 1e-06\n",
      "1 2.0000009999243673\n",
      "2 4.0000010006480125\n",
      "3 6.000001000927568\n"
     ]
    }
   ],
   "source": [
    "def f(x):\n",
    "    return x**2\n",
    "\n",
    "def derivative(f,x):\n",
    "    \"\"\"Returns the value of the derivative of\n",
    "    the function at a given x-value.\"\"\"\n",
    "    delta_x = 1/1000000\n",
    "    return (f(x+delta_x) - f(x))/delta_x\n",
    "\n",
    "for i in range(-3,4):\n",
    "    print(i,derivative(f,i))\n"
   ]
  },
  {
   "cell_type": "code",
   "execution_count": 2,
   "metadata": {},
   "outputs": [
    {
     "name": "stdout",
     "output_type": "stream",
     "text": [
      "-3 -6.0\n",
      "-2 -4.0\n",
      "-1 -2.0\n",
      "0 0.0\n",
      "1 2.0\n",
      "2 4.0\n",
      "3 6.0\n"
     ]
    }
   ],
   "source": [
    "for i in range(-3,4):\n",
    "    print(i,round(derivative(f,i),1))"
   ]
  },
  {
   "cell_type": "code",
   "execution_count": null,
   "metadata": {},
   "outputs": [],
   "source": []
  }
 ],
 "metadata": {
  "kernelspec": {
   "display_name": "Python 3",
   "language": "python",
   "name": "python3"
  },
  "language_info": {
   "codemirror_mode": {
    "name": "ipython",
    "version": 3
   },
   "file_extension": ".py",
   "mimetype": "text/x-python",
   "name": "python",
   "nbconvert_exporter": "python",
   "pygments_lexer": "ipython3",
   "version": "3.7.3"
  }
 },
 "nbformat": 4,
 "nbformat_minor": 2
}
