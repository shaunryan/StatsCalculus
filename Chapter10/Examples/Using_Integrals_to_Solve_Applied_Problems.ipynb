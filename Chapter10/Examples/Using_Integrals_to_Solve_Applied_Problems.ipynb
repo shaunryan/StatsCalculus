{
 "cells": [
  {
   "cell_type": "code",
   "execution_count": 1,
   "metadata": {},
   "outputs": [
    {
     "name": "stdout",
     "output_type": "stream",
     "text": [
      "1.5692255304681022\n"
     ]
    }
   ],
   "source": [
    "from math import sqrt, pi\n",
    "\n",
    "def f(x):\n",
    "    return sqrt(x)\n",
    "\n",
    "def vol_solid(f,a,b):\n",
    "    volume = 0\n",
    "    num = 1000\n",
    "    width = (b-a)/num\n",
    "    for i in range(num):\n",
    "    #     volume of cylindrical disk\n",
    "        vol = pi*(f(a+i*width))**2*width\n",
    "        volume += vol    \n",
    "    return volume\n",
    "\n",
    "print(vol_solid(f,0,1))"
   ]
  },
  {
   "cell_type": "code",
   "execution_count": null,
   "metadata": {},
   "outputs": [],
   "source": []
  }
 ],
 "metadata": {
  "kernelspec": {
   "display_name": "Python 3",
   "language": "python",
   "name": "python3"
  },
  "language_info": {
   "codemirror_mode": {
    "name": "ipython",
    "version": 3
   },
   "file_extension": ".py",
   "mimetype": "text/x-python",
   "name": "python",
   "nbconvert_exporter": "python",
   "pygments_lexer": "ipython3",
   "version": "3.7.3"
  }
 },
 "nbformat": 4,
 "nbformat_minor": 2
}
