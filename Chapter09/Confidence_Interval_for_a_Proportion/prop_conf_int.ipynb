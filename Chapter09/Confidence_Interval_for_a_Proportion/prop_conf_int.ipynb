{
 "cells": [
  {
   "cell_type": "code",
   "execution_count": 1,
   "metadata": {},
   "outputs": [],
   "source": [
    "def prop_confidenct_interval(p_hat, n, con_lvl):\n",
    "    import math\n",
    "    import scipy.stats as sp\n",
    "    crit_value = sp.norm.ppf(((1 - con_lvl) / 2) + con_lvl)\n",
    "    lower_limit = p_hat - (crit_value * (math.sqrt((p_hat * (1-p_hat)) / n)))\n",
    "    higher_limit = p_hat + (crit_value * (math.sqrt((p_hat * (1 - p_hat)) / n)))\n",
    "    print(f'Your {con_lvl} proportional confidence interval is ({lower_limit},{higher_limit})')\n",
    "    return (lower_limit,higher_limit)"
   ]
  },
  {
   "cell_type": "code",
   "execution_count": 2,
   "metadata": {},
   "outputs": [
    {
     "name": "stdout",
     "output_type": "stream",
     "text": [
      "Your 0.95 proportional confidence interval is (0.4877856513683282,0.5922143486316719)\n"
     ]
    },
    {
     "data": {
      "text/plain": [
       "(0.4877856513683282, 0.5922143486316719)"
      ]
     },
     "execution_count": 2,
     "metadata": {},
     "output_type": "execute_result"
    }
   ],
   "source": [
    "prop_confidenct_interval(0.54,350, 0.95)"
   ]
  },
  {
   "cell_type": "code",
   "execution_count": null,
   "metadata": {},
   "outputs": [],
   "source": []
  }
 ],
 "metadata": {
  "kernelspec": {
   "display_name": "Python 3",
   "language": "python",
   "name": "python3"
  },
  "language_info": {
   "codemirror_mode": {
    "name": "ipython",
    "version": 3
   },
   "file_extension": ".py",
   "mimetype": "text/x-python",
   "name": "python",
   "nbconvert_exporter": "python",
   "pygments_lexer": "ipython3",
   "version": "3.7.4"
  }
 },
 "nbformat": 4,
 "nbformat_minor": 4
}
