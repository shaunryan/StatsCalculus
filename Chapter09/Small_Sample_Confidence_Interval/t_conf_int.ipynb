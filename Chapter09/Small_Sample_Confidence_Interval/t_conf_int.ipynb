{
 "cells": [
  {
   "cell_type": "code",
   "execution_count": 1,
   "metadata": {},
   "outputs": [],
   "source": [
    "def t_confidence_interval(data, con_lvl):\n",
    "    import statistics as st\n",
    "    import scipy.stats as sp\n",
    "    import math\n",
    "    sample_mean = st.mean(data)\n",
    "    sample_st_dev = st.stdev(data)\n",
    "    n = len(data)\n",
    "    crit_value = sp.t.ppf(((1 - con_lvl) / 2) + con_lvl, n-1)\n",
    "    lower_limit = sample_mean - (crit_value * (sample_st_dev/math.sqrt(n)))\n",
    "    higher_limit = sample_mean + (crit_value * (sample_st_dev/math.sqrt(n)))\n",
    "    print(f'Your {con_lvl} t confidence interval is ({lower_limit},{higher_limit})')\n",
    "    return (lower_limit,higher_limit)"
   ]
  },
  {
   "cell_type": "code",
   "execution_count": 2,
   "metadata": {},
   "outputs": [
    {
     "name": "stdout",
     "output_type": "stream",
     "text": [
      "Your 0.95 t confidence interval is (3.827357936126168,6.172642063873832)\n"
     ]
    },
    {
     "data": {
      "text/plain": [
       "(3.827357936126168, 6.172642063873832)"
      ]
     },
     "execution_count": 2,
     "metadata": {},
     "output_type": "execute_result"
    }
   ],
   "source": [
    "#test using n=30 sample from uniform dist\n",
    "import random\n",
    "random.seed(39809)\n",
    "sample_list = []\n",
    "for i in range(30):\n",
    "    sample_list.append(random.randint(0, 10))\n",
    "\n",
    "t_confidence_interval(sample_list,0.95)"
   ]
  },
  {
   "cell_type": "code",
   "execution_count": null,
   "metadata": {},
   "outputs": [],
   "source": []
  }
 ],
 "metadata": {
  "kernelspec": {
   "display_name": "Python 3",
   "language": "python",
   "name": "python3"
  },
  "language_info": {
   "codemirror_mode": {
    "name": "ipython",
    "version": 3
   },
   "file_extension": ".py",
   "mimetype": "text/x-python",
   "name": "python",
   "nbconvert_exporter": "python",
   "pygments_lexer": "ipython3",
   "version": "3.7.4"
  }
 },
 "nbformat": 4,
 "nbformat_minor": 4
}
