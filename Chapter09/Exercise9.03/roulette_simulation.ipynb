{
 "cells": [
  {
   "cell_type": "code",
   "execution_count": 3,
   "metadata": {},
   "outputs": [
    {
     "name": "stdout",
     "output_type": "stream",
     "text": [
      "Results: You won 47258 games out of 100000 and won an average of -0.05484 dollars per game\n",
      "Results: You are expected to win -0.05263157894736842 per game\n"
     ]
    },
    {
     "data": {
      "image/png": "[encoded data removed]",
      "text/plain": [
       "<Figure size 432x288 with 1 Axes>"
      ]
     },
     "metadata": {
      "needs_background": "light"
     },
     "output_type": "display_data"
    }
   ],
   "source": [
    "# roulette simulation.py\n",
    "# import the module\n",
    "import random\n",
    "import matplotlib.pyplot as plt\n",
    "random.seed(54321)\n",
    "\n",
    "# set the number of games of roulette you want to play\n",
    "sample_size = 100000 \n",
    "\n",
    "#set the amount of money you want to bet\n",
    "bet = 1\n",
    "\n",
    "# initialize the variables required for our loop\n",
    "# 1 to 36 represent numbers on roulette wheel, 37 represents 0, 38 represents 00\n",
    "net_money = 0\n",
    "wins = 0\n",
    "money_track = []\n",
    "trials_track = []\n",
    "\n",
    "# create a for loop and collect the results in a list\n",
    "for i in range(1,sample_size+1):\n",
    "    result = random.randint(1,38)\n",
    "    #an odd number means we land on red, with the exception of 37, which means 0\n",
    "    if result % 2 == 1 and result != 37:\n",
    "        net_money += bet\n",
    "        wins += 1\n",
    "    else:\n",
    "        net_money -= bet\n",
    "    money_track.append(net_money/i)\n",
    "    trials_track.append(i)\n",
    "\n",
    "# print the results\n",
    "print(f'Results: You won {wins} games out of {sample_size} and won an average of {net_money/sample_size} dollars per game')\n",
    "print(f'Results: You are expected to win {((18/38)*bet+(20/38)*(-bet))} per game')\n",
    "\n",
    "#create a simple line graph to show our results over time\n",
    "plt.plot(trials_track, money_track)\n",
    "plt.ylabel('Average Net Per game')\n",
    "plt.xlabel('Number of games')\n",
    "plt.hlines(((18/38)*bet+(20/38)*(-bet)),0,sample_size,linestyles='dashed')\n",
    "plt.show()"
   ]
  },
  {
   "cell_type": "code",
   "execution_count": null,
   "metadata": {},
   "outputs": [],
   "source": []
  }
 ],
 "metadata": {
  "kernelspec": {
   "display_name": "Python 3",
   "language": "python",
   "name": "python3"
  },
  "language_info": {
   "codemirror_mode": {
    "name": "ipython",
    "version": 3
   },
   "file_extension": ".py",
   "mimetype": "text/x-python",
   "name": "python",
   "nbconvert_exporter": "python",
   "pygments_lexer": "ipython3",
   "version": "3.7.4"
  }
 },
 "nbformat": 4,
 "nbformat_minor": 4
}
