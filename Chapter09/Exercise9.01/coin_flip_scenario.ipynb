{
 "cells": [
  {
   "cell_type": "code",
   "execution_count": 3,
   "metadata": {},
   "outputs": [
    {
     "name": "stdout",
     "output_type": "stream",
     "text": [
      "Results: 51 heads out of 100 flips. Average number of heads per flip is 0.51.\n"
     ]
    }
   ],
   "source": [
    "# coin_flip_scenario.py\n",
    "# import the random module\n",
    "import random\n",
    "random.seed(54321)\n",
    "\n",
    "# set the sample size or coin flips you what to run\n",
    "sample_size = 100\n",
    "\n",
    "# create a for loop and collect the results in a list\n",
    "# 1 = heads and 0 = tails\n",
    "result_list = []\n",
    "for i in range(sample_size):\n",
    "    result = random.randint(0, 1)\n",
    "    result_list.append(result)\n",
    "\n",
    "# compile results\n",
    "num_of_heads = sum(result_list)\n",
    "avg_of_heads = float(num_of_heads) / sample_size\n",
    "\n",
    "# print the results\n",
    "print(f'Results: {num_of_heads} heads out of {sample_size} flips. Average number of heads per flip is {avg_of_heads}.')"
   ]
  },
  {
   "cell_type": "code",
   "execution_count": null,
   "metadata": {},
   "outputs": [],
   "source": []
  },
  {
   "cell_type": "code",
   "execution_count": null,
   "metadata": {},
   "outputs": [],
   "source": []
  }
 ],
 "metadata": {
  "kernelspec": {
   "display_name": "Python 3",
   "language": "python",
   "name": "python3"
  },
  "language_info": {
   "codemirror_mode": {
    "name": "ipython",
    "version": 3
   },
   "file_extension": ".py",
   "mimetype": "text/x-python",
   "name": "python",
   "nbconvert_exporter": "python",
   "pygments_lexer": "ipython3",
   "version": "3.7.4"
  }
 },
 "nbformat": 4,
 "nbformat_minor": 4
}
