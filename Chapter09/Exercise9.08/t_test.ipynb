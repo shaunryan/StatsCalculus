{
 "cells": [
  {
   "cell_type": "code",
   "execution_count": 54,
   "metadata": {},
   "outputs": [
    {
     "name": "stdout",
     "output_type": "stream",
     "text": [
      "large sample\n",
      "Sample mean: 50.60582852075699\n",
      "P Value = 0.4974609984410545\n",
      "Results are insignificant.  Do Not Reject the Null\n",
      "P Value = 0.32933701868279674\n",
      "Results are insignificant.  Do Not Reject the Null\n",
      "P Value = 0.002109341573010237\n",
      "Results are significant.  Reject the Null\n"
     ]
    },
    {
     "data": {
      "text/plain": [
       "(2.9291627860623524, 0.002109341573010237)"
      ]
     },
     "execution_count": 54,
     "metadata": {},
     "output_type": "execute_result"
    }
   ],
   "source": [
    "import scipy.stats as st\n",
    "import numpy as np\n",
    "import pandas as pd\n",
    "import math as mt\n",
    "import statistics as stat\n",
    "import statsmodels.stats.weightstats as mod\n",
    "import statsmodels.stats.proportion as prop\n",
    "np.random.seed(1)\n",
    "\n",
    "def t_test(sample, hypoth_value, sig_level, test_type):\n",
    "    sample_mean = stat.mean(sample)\n",
    "    sample_st_dev = stat.stdev(sample)\n",
    "    sample_size = len(sample)\n",
    "    test_statistic = (sample_mean - hypoth_value) / (sample_st_dev/(mt.sqrt(sample_size)))\n",
    "    if test_type == 'lower':\n",
    "        p_value = st.t.cdf(test_statistic,df=sample_size-1)\n",
    "    if test_type == 'upper':\n",
    "        p_value = 1 - st.t.cdf(test_statistic,df=sample_size-1)\n",
    "    if test_type == 'two':\n",
    "        p_value = 2 * (1 - st.t.cdf(abs(test_statistic), df=sample_size-1))\n",
    "    print(f'P Value = {p_value}')\n",
    "    if p_value < sig_level:\n",
    "        print(f'Results are significant.  Reject the Null')\n",
    "    else:\n",
    "        print(f'Results are insignificant.  Do Not Reject the Null')\n",
    "    return (test_statistic, p_value)\n",
    "\n",
    "# Randomly Sample from Normal Distribution mu=50 and st_dev = 10\n",
    "data1 = np.random.normal(50, 10, 100)\n",
    "\n",
    "#two-tailed test = Is the sample mean significantly different from 50?\n",
    "print('large sample')\n",
    "print(f'Sample mean: {stat.mean(data1)}')\n",
    "t_test(data1,50,0.05,'two')\n",
    "#lower tailed = Is the sample mean significantly lower than 51?\n",
    "t_test(data1,51,0.05,'lower')\n",
    "#upper tailed = is the sample mean significantly more than 48?\n",
    "t_test(data1,48,0.05,'upper')\n"
   ]
  },
  {
   "cell_type": "code",
   "execution_count": 59,
   "metadata": {},
   "outputs": [
    {
     "name": "stdout",
     "output_type": "stream",
     "text": [
      "[66.24345364 43.88243586 44.71828248 39.27031378 58.65407629]\n",
      "small sample\n",
      "Sample mean: 50.553712409836436\n",
      "P Value = 0.918572770568147\n",
      "Results are insignificant.  Do Not Reject the Null\n",
      "P Value = 0.4671568669546634\n",
      "Results are insignificant.  Do Not Reject the Null\n",
      "P Value = 0.32103491333328793\n",
      "Results are insignificant.  Do Not Reject the Null\n"
     ]
    },
    {
     "data": {
      "text/plain": [
       "(0.5019562701344552, 0.32103491333328793)"
      ]
     },
     "execution_count": 59,
     "metadata": {},
     "output_type": "execute_result"
    }
   ],
   "source": [
    "# select the first 5 elements of the data set\n",
    "data2 = data1[:5]\n",
    "print(data2)\n",
    "\n",
    "#two-tailed test = Is the sample mean significantly different from 50?\n",
    "print('small sample')\n",
    "print(f'Sample mean: {stat.mean(data2)}')\n",
    "t_test(data2,50,0.05,'two')\n",
    "#lower tailed = Is the sample mean significantly lower than 51?\n",
    "t_test(data2,51,0.05,'lower')\n",
    "#upper tailed = is the sample mean significantly more than 48?\n",
    "t_test(data2,48,0.05,'upper')\n"
   ]
  },
  {
   "cell_type": "code",
   "execution_count": 57,
   "metadata": {},
   "outputs": [
    {
     "data": {
      "text/plain": [
       "array([66.24345364, 43.88243586, 44.71828248, 39.27031378, 58.65407629,\n",
       "       26.98461303, 67.44811764, 42.38793099, 53.19039096, 47.50629625,\n",
       "       64.62107937, 29.39859291, 46.77582796, 46.15945645, 61.33769442,\n",
       "       39.00108733, 48.27571792, 41.22141582, 50.42213747, 55.82815214,\n",
       "       38.99380823, 61.4472371 , 59.01590721, 55.02494339, 59.00855949,\n",
       "       43.16272141, 48.77109774, 40.64230566, 47.3211192 , 55.30355467,\n",
       "       43.08339248, 46.03246473, 43.128273  , 41.54794359, 43.28753869,\n",
       "       49.87335401, 38.82689651, 52.34415698, 66.59802177, 57.42044161,\n",
       "       48.08164448, 41.12371036, 42.52841706, 66.92454601, 50.50807755,\n",
       "       43.63004353, 51.90915485, 71.00255136, 51.20158952, 56.1720311 ,\n",
       "       53.0017032 , 46.47750154, 38.57481802, 46.50657278, 47.91105767,\n",
       "       55.86623191, 58.38983414, 59.31102081, 52.85587325, 58.85141164,\n",
       "       42.45602059, 62.52868155, 55.1292982 , 47.01907165, 54.88518147,\n",
       "       49.24428287, 61.31629387, 65.19816816, 71.85575407, 36.03503665,\n",
       "       35.55886195, 44.95534137, 51.60037069, 58.76168921, 53.15634947,\n",
       "       29.77798784, 46.93795987, 58.27974643, 52.30094735, 57.6201118 ,\n",
       "       47.77671857, 47.99241931, 51.86561391, 54.10051647, 51.9829972 ,\n",
       "       51.19008646, 43.29337714, 53.77563786, 51.21821271, 61.29483908,\n",
       "       61.9891788 , 51.85156417, 46.2471505 , 43.61269593, 54.23494354,\n",
       "       50.77340068, 46.56146324, 50.43596857, 43.79999156, 56.98032034])"
      ]
     },
     "execution_count": 57,
     "metadata": {},
     "output_type": "execute_result"
    }
   ],
   "source": [
    "data1\n"
   ]
  },
  {
   "cell_type": "code",
   "execution_count": null,
   "metadata": {},
   "outputs": [],
   "source": []
  }
 ],
 "metadata": {
  "kernelspec": {
   "display_name": "Python 3",
   "language": "python",
   "name": "python3"
  },
  "language_info": {
   "codemirror_mode": {
    "name": "ipython",
    "version": 3
   },
   "file_extension": ".py",
   "mimetype": "text/x-python",
   "name": "python",
   "nbconvert_exporter": "python",
   "pygments_lexer": "ipython3",
   "version": "3.7.4"
  }
 },
 "nbformat": 4,
 "nbformat_minor": 4
}
