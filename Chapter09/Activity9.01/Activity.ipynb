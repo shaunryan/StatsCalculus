{
 "cells": [
  {
   "cell_type": "code",
   "execution_count": 1,
   "metadata": {},
   "outputs": [],
   "source": [
    "import pandas as pd\n",
    "data = pd.read_csv(r'pisa_test_scores.csv')"
   ]
  },
  {
   "cell_type": "code",
   "execution_count": 2,
   "metadata": {},
   "outputs": [
    {
     "name": "stdout",
     "output_type": "stream",
     "text": [
      "For Math:\n",
      "Your 0.95 t confidence interval is (448.2561338314995,473.6869804542148)\n",
      "For Reading:\n",
      "Your 0.95 t confidence interval is (449.1937943789569,472.80078847818595)\n",
      "For Science:\n",
      "Your 0.95 t confidence interval is (453.8991748650865,476.9790108491992)\n"
     ]
    },
    {
     "data": {
      "text/plain": [
       "(453.8991748650865, 476.9790108491992)"
      ]
     },
     "execution_count": 2,
     "metadata": {},
     "output_type": "execute_result"
    }
   ],
   "source": [
    "# Describe the typical score of a student in reading, writing, and mathematics\n",
    "# We will use the T-Confidence Interval Function we wrote earlier in the Chapter\n",
    "def t_confidence_interval(data, con_lvl):\n",
    "    import statistics as st\n",
    "    import scipy.stats as sp\n",
    "    import math\n",
    "    sample_mean = st.mean(data)\n",
    "    sample_st_dev = st.stdev(data)\n",
    "    n = len(data)\n",
    "    crit_value = sp.t.ppf(((1 - con_lvl) / 2) + con_lvl, n-1)\n",
    "    lower_limit = sample_mean - (crit_value * (sample_st_dev/math.sqrt(n)))\n",
    "    higher_limit = sample_mean + (crit_value * (sample_st_dev/math.sqrt(n)))\n",
    "    print(f'Your {con_lvl} t confidence interval is ({lower_limit},{higher_limit})')\n",
    "    return (lower_limit,higher_limit)\n",
    "\n",
    "print(\"For Math:\")\n",
    "t_confidence_interval(list(data['Math']),0.95)\n",
    "print(\"For Reading:\")\n",
    "t_confidence_interval(list(data['Reading']),0.95)\n",
    "print(\"For Science:\")\n",
    "t_confidence_interval(list(data['Science']),0.95)"
   ]
  },
  {
   "cell_type": "code",
   "execution_count": 3,
   "metadata": {},
   "outputs": [
    {
     "name": "stdout",
     "output_type": "stream",
     "text": [
      "   Country Code  internet_users_per_100      Math   Reading   Science\n",
      "0           ALB               63.252933  413.1570  405.2588  427.2250\n",
      "1           ARE               90.500000  427.4827  433.5423  436.7311\n",
      "2           ARG               68.043064  409.0333  425.3031  432.2262\n",
      "3           AUS               84.560519  493.8962  502.9006  509.9939\n",
      "4           AUT               83.940142  496.7423  484.8656  495.0375\n",
      "..          ...                     ...       ...       ...       ...\n",
      "62          SWE               90.610200  493.9181  500.1556  493.4224\n",
      "64          TTO               69.198471  417.2434  427.2733  424.5905\n",
      "66          TUR               53.744979  420.4540  428.3351  425.4895\n",
      "67          URY               64.600000  417.9919  436.5721  435.3630\n",
      "68          USA               74.554202  469.6285  496.9351  496.2424\n",
      "\n",
      "[63 rows x 5 columns]\n",
      "   Country Code  internet_users_per_100      Math   Reading   Science\n",
      "19          DZA               38.200000  359.6062  349.8593  375.7451\n",
      "25          GEO               47.569760  403.8332  401.2881  411.1315\n",
      "30          IDN               21.976068  386.1096  397.2595  403.0997\n",
      "53          PER               40.900000  386.5606  397.5414  396.6836\n",
      "63          THA               39.316127  415.4638  409.1301  421.3373\n",
      "65          TUN               48.519836  366.8180  361.0555  386.4034\n",
      "69          VNM               43.500000  494.5183  486.7738  524.6445\n"
     ]
    }
   ],
   "source": [
    "# Using A Hypothesis Test, evaluate whether having widespread internet infrastructure could have an impact on scores\n",
    "# We need to divide the data set into majority internet (more than 50 users out of 100) and minority internet(50 users or less) \n",
    "data1 = data[data['internet_users_per_100'] > 50]\n",
    "data0 = data[data['internet_users_per_100'] <= 50]\n",
    "\n",
    "print(data1)\n",
    "print(data0)"
   ]
  },
  {
   "cell_type": "code",
   "execution_count": 4,
   "metadata": {},
   "outputs": [
    {
     "name": "stdout",
     "output_type": "stream",
     "text": [
      "For Math: (note - statistic must be positive in order for there to be significance.)\n",
      "3.6040958108257892\n",
      "0.0036618262642996464\n",
      "For Reading: (note - statistic must be positive in order for there to be significance.)\n",
      "3.8196670837378237\n",
      "0.0028727977455195778\n",
      "For Science: (note - statistic must be positive in order for there to be significance.)\n",
      "2.734488895919944\n",
      "0.01425936325938158\n"
     ]
    }
   ],
   "source": [
    "# We will use the 2 Sample T Test function from the Scipy package\n",
    "import scipy.stats as sp\n",
    "\n",
    "# We want to see if scores are higher for Data1, so we will put that first and divide the p-value by two\n",
    "math_test_results = sp.ttest_ind(data1['Math'],data0['Math'],equal_var=False)\n",
    "print(r'For Math: (note - statistic must be positive in order for there to be significance.)')\n",
    "print(math_test_results.statistic)\n",
    "print(math_test_results.pvalue / 2)\n",
    "\n",
    "# We want to see if scores are higher for Data1, so we will put that first and divide the p-value by two\n",
    "reading_test_results = sp.ttest_ind(data1['Reading'],data0['Reading'],equal_var=False)\n",
    "print(r'For Reading: (note - statistic must be positive in order for there to be significance.)')\n",
    "print(reading_test_results.statistic)\n",
    "print(reading_test_results.pvalue / 2)\n",
    "\n",
    "\n",
    "# We want to see if scores are higher for Data1, so we will put that first and divide the p-value by two\n",
    "science_test_results = sp.ttest_ind(data1['Science'],data0['Science'],equal_var=False)\n",
    "print(r'For Science: (note - statistic must be positive in order for there to be significance.)')\n",
    "print(science_test_results.statistic)\n",
    "print(science_test_results.pvalue / 2)\n"
   ]
  },
  {
   "cell_type": "code",
   "execution_count": 5,
   "metadata": {},
   "outputs": [
    {
     "name": "stdout",
     "output_type": "stream",
     "text": [
      "[1.02301989 0.0516567 ]\n",
      "-38.99549267679254\n"
     ]
    }
   ],
   "source": [
    "#import sklearm linear model package\n",
    "import sklearn.linear_model as lm\n",
    "\n",
    "# Construct a Linear Model that can predict math scores from reading and science scores\n",
    "y = data['Math']\n",
    "x = data[['Science','Reading']]\n",
    "\n",
    "model = lm.LinearRegression()\n",
    "model.fit(x,y)\n",
    "\n",
    "print(model.coef_)\n",
    "print(model.intercept_)\n"
   ]
  },
  {
   "cell_type": "code",
   "execution_count": 6,
   "metadata": {},
   "outputs": [
    {
     "data": {
      "text/plain": [
       "<Figure size 640x480 with 1 Axes>"
      ]
     },
     "metadata": {},
     "output_type": "display_data"
    }
   ],
   "source": [
    "import matplotlib.pyplot as plt\n",
    "from mpl_toolkits import mplot3d\n",
    "import numpy as np\n",
    "\n",
    "threedee = plt.figure().gca(projection='3d')\n",
    "threedee.scatter(data['Science'], data['Reading'],data['Math'])\n",
    "threedee.set_xlabel('Science Score')\n",
    "threedee.set_ylabel('Reading Score')\n",
    "threedee.set_zlabel('Math Score')\n",
    "\n",
    "xline = np.linspace(0, 600, 600)\n",
    "yline = np.linspace(0, 600, 600)\n",
    "zline = xline*1.02301989 + yline*0.0516567-38.99549267679242\n",
    "threedee.plot3D(xline, yline, zline, 'red')\n",
    "\n",
    "plt.show()\n"
   ]
  },
  {
   "cell_type": "code",
   "execution_count": null,
   "metadata": {},
   "outputs": [],
   "source": []
  }
 ],
 "metadata": {
  "kernelspec": {
   "display_name": "Python 3",
   "language": "python",
   "name": "python3"
  },
  "language_info": {
   "codemirror_mode": {
    "name": "ipython",
    "version": 3
   },
   "file_extension": ".py",
   "mimetype": "text/x-python",
   "name": "python",
   "nbconvert_exporter": "python",
   "pygments_lexer": "ipython3",
   "version": "3.7.4"
  }
 },
 "nbformat": 4,
 "nbformat_minor": 4
}
