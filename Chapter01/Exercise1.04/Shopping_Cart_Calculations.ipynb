{
 "cells": [
  {
   "cell_type": "code",
   "execution_count": 1,
   "metadata": {},
   "outputs": [],
   "source": [
    "prices = {'MacBook 13': 1300, 'MacBook 15': 2100, 'ASUS ROG': 1600}  # available products and respective prices"
   ]
  },
  {
   "cell_type": "code",
   "execution_count": 2,
   "metadata": {},
   "outputs": [],
   "source": [
    "cart = {}  # products added to cart and respective counts"
   ]
  },
  {
   "cell_type": "code",
   "execution_count": 3,
   "metadata": {},
   "outputs": [
    {
     "name": "stdout",
     "output_type": "stream",
     "text": [
      "Would you like to continue shopping? [y/n]: y\n",
      "Available products and prices: {'MacBook 13': 1300, 'MacBook 15': 2100, 'ASUS ROG': 1600}\n",
      "Which product would you like to add to your cart? MacBook 13\n",
      "Would you like to continue shopping? [y/n]: y\n",
      "Available products and prices: {'MacBook 13': 1300, 'MacBook 15': 2100, 'ASUS ROG': 1600}\n",
      "Which product would you like to add to your cart? MacBook 13\n",
      "Would you like to continue shopping? [y/n]: y\n",
      "Available products and prices: {'MacBook 13': 1300, 'MacBook 15': 2100, 'ASUS ROG': 1600}\n",
      "Which product would you like to add to your cart? ASUS ROG\n",
      "Would you like to continue shopping? [y/n]: n\n"
     ]
    }
   ],
   "source": [
    "# Shopping - adding items to the cart.\n",
    "while True:\n",
    "    _continue = input('Would you like to continue shopping? [y/n]: ')  # talk about the `continue` keyword\n",
    "\n",
    "    if _continue == 'y':\n",
    "        print(f'Available products and prices: {prices}')\n",
    "        new_item = input('Which product would you like to add to your cart? ')\n",
    "\n",
    "        # Increment the count of the new product in the cart\n",
    "        if new_item in prices:\n",
    "            if new_item in cart:\n",
    "                cart[new_item] += 1\n",
    "            else:\n",
    "                cart[new_item] = 1  # if the cart doesn't have the product yet\n",
    "        else:\n",
    "            print('Please only choose from the available products.')\n",
    "\n",
    "    elif _continue == 'n':\n",
    "        break\n",
    "\n",
    "    else:\n",
    "        print('Please only enter \"y\" or \"n\".')"
   ]
  },
  {
   "cell_type": "code",
   "execution_count": 4,
   "metadata": {},
   "outputs": [],
   "source": [
    "# Calculation of total bill.\n",
    "running_sum = 0\n",
    "for item in cart:\n",
    "    running_sum += cart[item] * prices[item]  # quantity times price"
   ]
  },
  {
   "cell_type": "code",
   "execution_count": 5,
   "metadata": {},
   "outputs": [
    {
     "name": "stdout",
     "output_type": "stream",
     "text": [
      "Your final cart is:\n",
      "- 2 MacBook 13(s)\n",
      "- 1 ASUS ROG(s)\n",
      "Your final bill is: 4200\n"
     ]
    }
   ],
   "source": [
    "print(f'Your final cart is:')\n",
    "for item in cart:\n",
    "    print(f'- {cart[item]} {item}(s)')\n",
    "print(f'Your final bill is: {running_sum}')"
   ]
  },
  {
   "cell_type": "code",
   "execution_count": null,
   "metadata": {},
   "outputs": [],
   "source": []
  }
 ],
 "metadata": {
  "kernelspec": {
   "display_name": "Python 3",
   "language": "python",
   "name": "python3"
  },
  "language_info": {
   "codemirror_mode": {
    "name": "ipython",
    "version": 3
   },
   "file_extension": ".py",
   "mimetype": "text/x-python",
   "name": "python",
   "nbconvert_exporter": "python",
   "pygments_lexer": "ipython3",
   "version": "3.7.4"
  }
 },
 "nbformat": 4,
 "nbformat_minor": 2
}
